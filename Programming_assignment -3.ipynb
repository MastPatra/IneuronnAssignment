{
 "cells": [
  {
   "cell_type": "markdown",
   "id": "5186bb56",
   "metadata": {},
   "source": [
    "Write a Python Program to Check if a Number is Positive, Negative or Zero?"
   ]
  },
  {
   "cell_type": "code",
   "execution_count": 2,
   "id": "ce875d99",
   "metadata": {},
   "outputs": [],
   "source": [
    "def check_Number(x):\n",
    "    try:\n",
    "        if x>0:\n",
    "            return \"Positive\"\n",
    "        elif x<0:\n",
    "            return \"Negative\"\n",
    "        else:\n",
    "            return \"zero\"\n",
    "    except Exception as e:\n",
    "        return e"
   ]
  },
  {
   "cell_type": "code",
   "execution_count": 5,
   "id": "2f141d45",
   "metadata": {},
   "outputs": [
    {
     "data": {
      "text/plain": [
       "'Negative'"
      ]
     },
     "execution_count": 5,
     "metadata": {},
     "output_type": "execute_result"
    }
   ],
   "source": [
    "check_Number(-8)"
   ]
  },
  {
   "cell_type": "markdown",
   "id": "11ad49e0",
   "metadata": {},
   "source": [
    "Write a Python Program to Check if a Number is Odd or Even?"
   ]
  },
  {
   "cell_type": "code",
   "execution_count": 14,
   "id": "fcc0e0cf",
   "metadata": {},
   "outputs": [],
   "source": [
    "def even_odd(x):\n",
    "    try:\n",
    "        if x % 2 ==0:\n",
    "            return \"Even\"\n",
    "        elif x % 2 !=0:\n",
    "            return \"Odd\"\n",
    "    except Exception as e:\n",
    "        return e\n",
    "            "
   ]
  },
  {
   "cell_type": "code",
   "execution_count": 22,
   "id": "a2dc1df7",
   "metadata": {},
   "outputs": [
    {
     "data": {
      "text/plain": [
       "'Even'"
      ]
     },
     "execution_count": 22,
     "metadata": {},
     "output_type": "execute_result"
    }
   ],
   "source": [
    "even_odd(8)"
   ]
  },
  {
   "cell_type": "markdown",
   "id": "d39d5375",
   "metadata": {},
   "source": [
    "Write a Python Program to Check Leap Year?"
   ]
  },
  {
   "cell_type": "code",
   "execution_count": 30,
   "id": "f47d715f",
   "metadata": {},
   "outputs": [],
   "source": [
    "def check_Leap(year):\n",
    "    try:\n",
    "        if year%4==0 and year % 100 !=0:\n",
    "            return \"Leap Year\"\n",
    "        elif year %400==0:\n",
    "            return \"Leap Year\"\n",
    "        else:\n",
    "            return \"Not a Leap year\"\n",
    "            \n",
    "        \n",
    "    except Exception as e:\n",
    "        return e"
   ]
  },
  {
   "cell_type": "code",
   "execution_count": 32,
   "id": "25ecb059",
   "metadata": {},
   "outputs": [
    {
     "data": {
      "text/plain": [
       "'Leap Year'"
      ]
     },
     "execution_count": 32,
     "metadata": {},
     "output_type": "execute_result"
    }
   ],
   "source": [
    "check_Leap(1904)"
   ]
  },
  {
   "cell_type": "code",
   "execution_count": 38,
   "id": "74799a9c",
   "metadata": {},
   "outputs": [
    {
     "data": {
      "text/plain": [
       "8"
      ]
     },
     "execution_count": 38,
     "metadata": {},
     "output_type": "execute_result"
    }
   ],
   "source": [
    "17//2"
   ]
  },
  {
   "cell_type": "markdown",
   "id": "5ffb4f32",
   "metadata": {},
   "source": [
    "Write a Python Program to Check Prime Number?"
   ]
  },
  {
   "cell_type": "code",
   "execution_count": 66,
   "id": "fee3e0e5",
   "metadata": {},
   "outputs": [],
   "source": [
    "def Prime_number(x):\n",
    "    try:\n",
    "        if x>1:\n",
    "            if x==2:\n",
    "                return \"Prime Number\"\n",
    "            for i in range(2,x//2):\n",
    "                if x%i==0:\n",
    "                    return \" Not Prime Number\"                    \n",
    "                else:\n",
    "                    return \"Prime Number\"\n",
    "    except Exception as e:\n",
    "        return e"
   ]
  },
  {
   "cell_type": "code",
   "execution_count": 68,
   "id": "8f053f66",
   "metadata": {},
   "outputs": [
    {
     "data": {
      "text/plain": [
       "'Prime Number'"
      ]
     },
     "execution_count": 68,
     "metadata": {},
     "output_type": "execute_result"
    }
   ],
   "source": [
    "Prime_number(2)"
   ]
  },
  {
   "cell_type": "markdown",
   "id": "b18f7a58",
   "metadata": {},
   "source": [
    "Write a Python Program to Print all Prime Numbers in an Interval of 1-10000?"
   ]
  },
  {
   "cell_type": "code",
   "execution_count": 130,
   "id": "130f673c",
   "metadata": {},
   "outputs": [],
   "source": [
    "def print_Prime(x):\n",
    "    try:\n",
    "        for num in range(1,x+1):\n",
    "            if num==1:\n",
    "                continue\n",
    "            else:\n",
    "                for i in range(2,(num//2)):\n",
    "                    if num%i==0:\n",
    "                        break\n",
    "                else:\n",
    "                    print(num)\n",
    "\n",
    "    except Exception as e:\n",
    "        return e\n",
    "                    "
   ]
  },
  {
   "cell_type": "code",
   "execution_count": 131,
   "id": "f3f0d742",
   "metadata": {},
   "outputs": [
    {
     "name": "stdout",
     "output_type": "stream",
     "text": [
      "2\n",
      "3\n",
      "4\n",
      "5\n",
      "7\n",
      "11\n",
      "13\n",
      "17\n",
      "19\n",
      "23\n",
      "29\n",
      "31\n",
      "37\n",
      "41\n",
      "43\n",
      "47\n",
      "53\n",
      "59\n",
      "61\n",
      "67\n",
      "71\n",
      "73\n",
      "79\n",
      "83\n",
      "89\n",
      "97\n"
     ]
    }
   ],
   "source": [
    "print_Prime(100)"
   ]
  },
  {
   "cell_type": "code",
   "execution_count": null,
   "id": "51736e89",
   "metadata": {},
   "outputs": [],
   "source": []
  },
  {
   "cell_type": "code",
   "execution_count": null,
   "id": "086b27b7",
   "metadata": {},
   "outputs": [],
   "source": []
  }
 ],
 "metadata": {
  "kernelspec": {
   "display_name": "Python 3 (ipykernel)",
   "language": "python",
   "name": "python3"
  },
  "language_info": {
   "codemirror_mode": {
    "name": "ipython",
    "version": 3
   },
   "file_extension": ".py",
   "mimetype": "text/x-python",
   "name": "python",
   "nbconvert_exporter": "python",
   "pygments_lexer": "ipython3",
   "version": "3.9.12"
  }
 },
 "nbformat": 4,
 "nbformat_minor": 5
}
