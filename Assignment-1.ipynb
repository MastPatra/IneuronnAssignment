{
 "cells": [
  {
   "cell_type": "markdown",
   "id": "9c2900dd",
   "metadata": {},
   "source": [
    "# Assignment 1"
   ]
  },
  {
   "cell_type": "markdown",
   "id": "1ca8fd8f",
   "metadata": {},
   "source": [
    "1. In the below elements which of them are values or an expression? eg:- values can be\n",
    "integer or string and expressions will be mathematical operators."
   ]
  },
  {
   "cell_type": "markdown",
   "id": "f25b5558",
   "metadata": {},
   "source": [
    "* -> operator \n",
    "\n",
    "'hello'-> value\n",
    "\n",
    "-87.8 -> value\n",
    "-    -> operator\n",
    "/  -> operator\n",
    "+  -> operator\n",
    "6 ->operator"
   ]
  },
  {
   "cell_type": "markdown",
   "id": "299a127f",
   "metadata": {},
   "source": [
    "2.What is the difference between string and variable?"
   ]
  },
  {
   "cell_type": "markdown",
   "id": "e936fd7a",
   "metadata": {},
   "source": [
    "String is a datatype and variable is a name given to memory locations to store the value\n",
    "\n"
   ]
  },
  {
   "cell_type": "markdown",
   "id": "7541c508",
   "metadata": {},
   "source": [
    "3.Describe three different data types."
   ]
  },
  {
   "cell_type": "markdown",
   "id": "95b9547b",
   "metadata": {},
   "source": [
    "integer- simple numbers but no decimals.\n",
    "\n",
    "float - numbers but decimals are also allowed.\n",
    "\n",
    "String -combination of any characters enclosed within single or double quotes.\n",
    "\n",
    "Boolean - results either True or False(0,1).\n",
    "\n",
    "List,tuple - it is also an datatype which stores heterogeneous data.\n"
   ]
  },
  {
   "cell_type": "markdown",
   "id": "efcd4638",
   "metadata": {},
   "source": [
    "4.What is an expression made up of? What do all expressions do?"
   ]
  },
  {
   "cell_type": "markdown",
   "id": "6c5a3081",
   "metadata": {},
   "source": [
    "Expressions are made up with combination of operators and values .\n",
    "Expression will give an output based on the value stored in the memory and the operator used between those values.\n",
    "\n",
    "\n"
   ]
  },
  {
   "cell_type": "markdown",
   "id": "a7c22fc1",
   "metadata": {},
   "source": [
    "5.This assignment statements, like spam = 10. What is the difference between an\n",
    "expression and a statement?"
   ]
  },
  {
   "cell_type": "markdown",
   "id": "f6852c06",
   "metadata": {},
   "source": [
    "Statement means declaration , once declared unless and until it is assigned with some new value it will not change.\n",
    "But in expression , we are expecting to do some operations and give us the desired single output based on the operator and value."
   ]
  },
  {
   "cell_type": "markdown",
   "id": "28bbfcc8",
   "metadata": {},
   "source": [
    "6.After running the following code, what does the variable bacon contain?\n",
    "bacon = 22\n",
    "bacon + 1"
   ]
  },
  {
   "cell_type": "markdown",
   "id": "fea4c708",
   "metadata": {},
   "source": [
    "it will return 22 as after updating reassignment  is not done"
   ]
  },
  {
   "cell_type": "markdown",
   "id": "ea5d67c8",
   "metadata": {},
   "source": [
    "7.What should the values of the following two terms be?\n"
   ]
  },
  {
   "cell_type": "markdown",
   "id": "77837cf3",
   "metadata": {},
   "source": [
    "'spam' + 'spamspam' ='spamspamspam'\n",
    "\n",
    "'spam'* 3 ='spamspamspam'\n"
   ]
  },
  {
   "cell_type": "markdown",
   "id": "92a07d6f",
   "metadata": {},
   "source": [
    "8.Why is eggs a valid variable name while 100 is invalid?"
   ]
  },
  {
   "cell_type": "markdown",
   "id": "dbfeec85",
   "metadata": {},
   "source": [
    "Because a variable name in python should not start with number."
   ]
  },
  {
   "cell_type": "markdown",
   "id": "9f64f89a",
   "metadata": {},
   "source": [
    "9. What three functions can be used to get the integer, floating-point number, or string\n",
    "version of a value?"
   ]
  },
  {
   "cell_type": "markdown",
   "id": "71c0dbf5",
   "metadata": {},
   "source": [
    "int() , float(), str()"
   ]
  },
  {
   "cell_type": "markdown",
   "id": "ac3159de",
   "metadata": {},
   "source": [
    "10. Why does this expression cause an error? How can you fix it?\n",
    "\n",
    "'I have eaten' + 99 + 'burritos.'"
   ]
  },
  {
   "cell_type": "markdown",
   "id": "accfa310",
   "metadata": {},
   "source": [
    "Integer and String cannot be concatenated as it is not allowed in python.For concatenation the datatype should be same."
   ]
  },
  {
   "cell_type": "code",
   "execution_count": null,
   "id": "b88aaf1b",
   "metadata": {},
   "outputs": [],
   "source": []
  }
 ],
 "metadata": {
  "kernelspec": {
   "display_name": "Python 3 (ipykernel)",
   "language": "python",
   "name": "python3"
  },
  "language_info": {
   "codemirror_mode": {
    "name": "ipython",
    "version": 3
   },
   "file_extension": ".py",
   "mimetype": "text/x-python",
   "name": "python",
   "nbconvert_exporter": "python",
   "pygments_lexer": "ipython3",
   "version": "3.9.12"
  }
 },
 "nbformat": 4,
 "nbformat_minor": 5
}
