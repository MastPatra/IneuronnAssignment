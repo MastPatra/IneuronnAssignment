{
 "cells": [
  {
   "cell_type": "markdown",
   "id": "14502e8f",
   "metadata": {},
   "source": [
    "Write a Python program to convert kilometers to miles?"
   ]
  },
  {
   "cell_type": "code",
   "execution_count": 1,
   "id": "fbd15d75",
   "metadata": {},
   "outputs": [],
   "source": [
    "def km_to_miles(km):\n",
    "    try:\n",
    "        miles = km * 0.62137\n",
    "        return miles\n",
    "    except Exception as e:\n",
    "        return e\n",
    "    "
   ]
  },
  {
   "cell_type": "code",
   "execution_count": 4,
   "id": "bf63e3f9",
   "metadata": {},
   "outputs": [
    {
     "name": "stdout",
     "output_type": "stream",
     "text": [
      "1.24274\n"
     ]
    }
   ],
   "source": [
    "print(km_to_miles(2))"
   ]
  },
  {
   "cell_type": "markdown",
   "id": "51862ea2",
   "metadata": {},
   "source": [
    "Write a Python program to convert Celsius to Fahrenheit?"
   ]
  },
  {
   "cell_type": "code",
   "execution_count": 10,
   "id": "4c33a682",
   "metadata": {},
   "outputs": [],
   "source": [
    "def Cel_to_far(temp):\n",
    "    try :\n",
    "        Fahrenheit=(temp * 1.8) +32\n",
    "        return str(Fahrenheit) + \"F\"\n",
    "    except Exception as e:\n",
    "        return e"
   ]
  },
  {
   "cell_type": "code",
   "execution_count": 11,
   "id": "4c87e7e3",
   "metadata": {},
   "outputs": [
    {
     "name": "stdout",
     "output_type": "stream",
     "text": [
      "96.8F\n"
     ]
    }
   ],
   "source": [
    "print(Cel_to_far(36))"
   ]
  },
  {
   "cell_type": "markdown",
   "id": "24a03d8d",
   "metadata": {},
   "source": [
    "Write a Python program to display calendar?"
   ]
  },
  {
   "cell_type": "code",
   "execution_count": 38,
   "id": "33b11e28",
   "metadata": {},
   "outputs": [],
   "source": [
    "import calendar\n",
    "def disp_Cal(year):\n",
    "    try:\n",
    "        if len(str(year))==4:\n",
    "            return calendar.calendar(int(year))\n",
    "        else:\n",
    "            return \"Valid year\"\n",
    "    except Exception as e:\n",
    "        return e\n",
    "    \n",
    "        "
   ]
  },
  {
   "cell_type": "code",
   "execution_count": 39,
   "id": "29e675c9",
   "metadata": {},
   "outputs": [
    {
     "name": "stdout",
     "output_type": "stream",
     "text": [
      "                                  2022\n",
      "\n",
      "      January                   February                   March\n",
      "Mo Tu We Th Fr Sa Su      Mo Tu We Th Fr Sa Su      Mo Tu We Th Fr Sa Su\n",
      "                1  2          1  2  3  4  5  6          1  2  3  4  5  6\n",
      " 3  4  5  6  7  8  9       7  8  9 10 11 12 13       7  8  9 10 11 12 13\n",
      "10 11 12 13 14 15 16      14 15 16 17 18 19 20      14 15 16 17 18 19 20\n",
      "17 18 19 20 21 22 23      21 22 23 24 25 26 27      21 22 23 24 25 26 27\n",
      "24 25 26 27 28 29 30      28                        28 29 30 31\n",
      "31\n",
      "\n",
      "       April                      May                       June\n",
      "Mo Tu We Th Fr Sa Su      Mo Tu We Th Fr Sa Su      Mo Tu We Th Fr Sa Su\n",
      "             1  2  3                         1             1  2  3  4  5\n",
      " 4  5  6  7  8  9 10       2  3  4  5  6  7  8       6  7  8  9 10 11 12\n",
      "11 12 13 14 15 16 17       9 10 11 12 13 14 15      13 14 15 16 17 18 19\n",
      "18 19 20 21 22 23 24      16 17 18 19 20 21 22      20 21 22 23 24 25 26\n",
      "25 26 27 28 29 30         23 24 25 26 27 28 29      27 28 29 30\n",
      "                          30 31\n",
      "\n",
      "        July                     August                  September\n",
      "Mo Tu We Th Fr Sa Su      Mo Tu We Th Fr Sa Su      Mo Tu We Th Fr Sa Su\n",
      "             1  2  3       1  2  3  4  5  6  7                1  2  3  4\n",
      " 4  5  6  7  8  9 10       8  9 10 11 12 13 14       5  6  7  8  9 10 11\n",
      "11 12 13 14 15 16 17      15 16 17 18 19 20 21      12 13 14 15 16 17 18\n",
      "18 19 20 21 22 23 24      22 23 24 25 26 27 28      19 20 21 22 23 24 25\n",
      "25 26 27 28 29 30 31      29 30 31                  26 27 28 29 30\n",
      "\n",
      "      October                   November                  December\n",
      "Mo Tu We Th Fr Sa Su      Mo Tu We Th Fr Sa Su      Mo Tu We Th Fr Sa Su\n",
      "                1  2          1  2  3  4  5  6                1  2  3  4\n",
      " 3  4  5  6  7  8  9       7  8  9 10 11 12 13       5  6  7  8  9 10 11\n",
      "10 11 12 13 14 15 16      14 15 16 17 18 19 20      12 13 14 15 16 17 18\n",
      "17 18 19 20 21 22 23      21 22 23 24 25 26 27      19 20 21 22 23 24 25\n",
      "24 25 26 27 28 29 30      28 29 30                  26 27 28 29 30 31\n",
      "31\n",
      "\n"
     ]
    }
   ],
   "source": [
    "print(disp_Cal(2022))"
   ]
  },
  {
   "cell_type": "markdown",
   "id": "2b3766ee",
   "metadata": {},
   "source": [
    "Write a Python program to solve quadratic equation?"
   ]
  },
  {
   "cell_type": "code",
   "execution_count": 120,
   "id": "44aa76b4",
   "metadata": {},
   "outputs": [],
   "source": [
    "def quadratic_Eq(a,b,c):\n",
    "    try:\n",
    "        if a==0:\n",
    "            return \"Invalid quadratic equation\"\n",
    "        \n",
    "        else:\n",
    "            discr=b**2-(4*a*c)\n",
    "            \n",
    "            if discr>0:\n",
    "                return (-b-(discr**0.5))/ 2 *a,(-b+(discr**0.5))/2 *a\n",
    "            elif discr==0:\n",
    "                return (-b/2*a)\n",
    "            else:\n",
    "                \n",
    "                return str(-b/2*a) +' + i'+str(abs(discr**0.5)) ,str(-b/2*a) +' - i'+str(abs(discr**0.5))\n",
    "    except Exception as e:\n",
    "        return e\n",
    "    "
   ]
  },
  {
   "cell_type": "code",
   "execution_count": 123,
   "id": "c973718c",
   "metadata": {},
   "outputs": [
    {
     "name": "stdout",
     "output_type": "stream",
     "text": [
      "(-8.0, 6.0)\n"
     ]
    }
   ],
   "source": [
    "print(quadratic_Eq(2,1,-6))"
   ]
  },
  {
   "cell_type": "markdown",
   "id": "6ac38fc0",
   "metadata": {},
   "source": []
  },
  {
   "cell_type": "code",
   "execution_count": null,
   "id": "a6410482",
   "metadata": {},
   "outputs": [],
   "source": [
    "Write a Python program to swap two variables without temp variable?"
   ]
  },
  {
   "cell_type": "code",
   "execution_count": 129,
   "id": "3f97e6b7",
   "metadata": {},
   "outputs": [],
   "source": [
    "def swap_var(a,b):\n",
    "    try:\n",
    "        a= a+b\n",
    "        b= a-b\n",
    "        a= a-b\n",
    "        return a,b\n",
    "    except Exception as e:\n",
    "        return e\n",
    "        \n",
    "    \n",
    "    "
   ]
  },
  {
   "cell_type": "code",
   "execution_count": 131,
   "id": "69e87567",
   "metadata": {},
   "outputs": [
    {
     "data": {
      "text/plain": [
       "(5, 3)"
      ]
     },
     "execution_count": 131,
     "metadata": {},
     "output_type": "execute_result"
    }
   ],
   "source": [
    "swap_var(3,5)"
   ]
  },
  {
   "cell_type": "code",
   "execution_count": null,
   "id": "3bb3c67b",
   "metadata": {},
   "outputs": [],
   "source": []
  },
  {
   "cell_type": "code",
   "execution_count": null,
   "id": "d7b67210",
   "metadata": {},
   "outputs": [],
   "source": []
  },
  {
   "cell_type": "code",
   "execution_count": null,
   "id": "1b888e2f",
   "metadata": {},
   "outputs": [],
   "source": []
  }
 ],
 "metadata": {
  "kernelspec": {
   "display_name": "Python 3 (ipykernel)",
   "language": "python",
   "name": "python3"
  },
  "language_info": {
   "codemirror_mode": {
    "name": "ipython",
    "version": 3
   },
   "file_extension": ".py",
   "mimetype": "text/x-python",
   "name": "python",
   "nbconvert_exporter": "python",
   "pygments_lexer": "ipython3",
   "version": "3.9.12"
  }
 },
 "nbformat": 4,
 "nbformat_minor": 5
}
