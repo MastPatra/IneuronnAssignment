{
 "cells": [
  {
   "cell_type": "markdown",
   "id": "1e859d32",
   "metadata": {},
   "source": [
    "Write a Python program to find sum of elements in list?"
   ]
  },
  {
   "cell_type": "code",
   "execution_count": 121,
   "id": "fcb8c8cc",
   "metadata": {},
   "outputs": [],
   "source": [
    "def sum_List(l):\n",
    "    try:\n",
    "        summ=0\n",
    "        for i in l:\n",
    "            if type(i)==int:\n",
    "                summ+=i\n",
    "            else:\n",
    "                continue\n",
    "        return summ\n",
    "    except Exception as e:\n",
    "        return e"
   ]
  },
  {
   "cell_type": "code",
   "execution_count": 122,
   "id": "dbb0a016",
   "metadata": {},
   "outputs": [
    {
     "data": {
      "text/plain": [
       "15"
      ]
     },
     "execution_count": 122,
     "metadata": {},
     "output_type": "execute_result"
    }
   ],
   "source": [
    "sum_List([1,2,3,4,5,'f',])"
   ]
  },
  {
   "cell_type": "code",
   "execution_count": 123,
   "id": "0e580f88",
   "metadata": {},
   "outputs": [
    {
     "data": {
      "text/plain": [
       "6"
      ]
     },
     "execution_count": 123,
     "metadata": {},
     "output_type": "execute_result"
    }
   ],
   "source": [
    "sum([1,2,3]) #we can use inbuilt function as well"
   ]
  },
  {
   "cell_type": "markdown",
   "id": "35feea8d",
   "metadata": {},
   "source": [
    "Write a Python program to Multiply all numbers in the list?"
   ]
  },
  {
   "cell_type": "code",
   "execution_count": 124,
   "id": "d87b5808",
   "metadata": {},
   "outputs": [],
   "source": [
    "def mul_List(l):\n",
    "    try:\n",
    "        mul=1\n",
    "        for i in l:\n",
    "            if type(i)==int:\n",
    "                mul*=i\n",
    "            else:\n",
    "                continue\n",
    "        return mul\n",
    "    except Exception as e:\n",
    "        return e"
   ]
  },
  {
   "cell_type": "code",
   "execution_count": 125,
   "id": "3fcce50d",
   "metadata": {},
   "outputs": [
    {
     "data": {
      "text/plain": [
       "720"
      ]
     },
     "execution_count": 125,
     "metadata": {},
     "output_type": "execute_result"
    }
   ],
   "source": [
    "mul_List([2,2,3,4,5,3])"
   ]
  },
  {
   "cell_type": "markdown",
   "id": "3cc524b0",
   "metadata": {},
   "source": [
    "Write a Python program to find smallest number in a list?"
   ]
  },
  {
   "cell_type": "code",
   "execution_count": 126,
   "id": "ddb12811",
   "metadata": {},
   "outputs": [],
   "source": [
    "def smallest(num):\n",
    "    try:\n",
    "        smallest=num[0]\n",
    "        for i in num:\n",
    "            if i<smallest:\n",
    "                smallest=i\n",
    "        return smallest\n",
    "    except Exception as e:\n",
    "        return e"
   ]
  },
  {
   "cell_type": "code",
   "execution_count": 127,
   "id": "166d95ad",
   "metadata": {},
   "outputs": [
    {
     "data": {
      "text/plain": [
       "-5"
      ]
     },
     "execution_count": 127,
     "metadata": {},
     "output_type": "execute_result"
    }
   ],
   "source": [
    "smallest([2,3,5,87,-1,-5])"
   ]
  },
  {
   "cell_type": "code",
   "execution_count": 128,
   "id": "b19be103",
   "metadata": {},
   "outputs": [
    {
     "data": {
      "text/plain": [
       "1"
      ]
     },
     "execution_count": 128,
     "metadata": {},
     "output_type": "execute_result"
    }
   ],
   "source": [
    "min([2,3,5,87,1]) # we can use inbuilt function as well"
   ]
  },
  {
   "cell_type": "markdown",
   "id": "70fd60fd",
   "metadata": {},
   "source": [
    "Write a Python program to find largest number in a list?"
   ]
  },
  {
   "cell_type": "code",
   "execution_count": 129,
   "id": "ad75e7a6",
   "metadata": {},
   "outputs": [],
   "source": [
    "def largest(num):\n",
    "    try:\n",
    "        largest=num[0]\n",
    "        for i in num:\n",
    "            if i>largest:\n",
    "                largest=i\n",
    "        return largest\n",
    "    except Exception as e:\n",
    "        return e"
   ]
  },
  {
   "cell_type": "code",
   "execution_count": 130,
   "id": "4c0c24ac",
   "metadata": {},
   "outputs": [
    {
     "data": {
      "text/plain": [
       "909"
      ]
     },
     "execution_count": 130,
     "metadata": {},
     "output_type": "execute_result"
    }
   ],
   "source": [
    "largest([2,3,5,87,-1,-5,909])"
   ]
  },
  {
   "cell_type": "markdown",
   "id": "ae302389",
   "metadata": {},
   "source": [
    "Write a Python program to find second largest number in a list?"
   ]
  },
  {
   "cell_type": "code",
   "execution_count": null,
   "id": "8e842e54",
   "metadata": {},
   "outputs": [],
   "source": []
  },
  {
   "cell_type": "code",
   "execution_count": 115,
   "id": "23ed25a4",
   "metadata": {},
   "outputs": [],
   "source": [
    "temp_list=[3,4,6,2,76,3,2,8,98,98]"
   ]
  },
  {
   "cell_type": "code",
   "execution_count": 117,
   "id": "d671dd78",
   "metadata": {},
   "outputs": [
    {
     "name": "stdout",
     "output_type": "stream",
     "text": [
      "76\n"
     ]
    }
   ],
   "source": [
    "temp=sorted(set(temp_list))\n",
    "print(temp[-2])"
   ]
  },
  {
   "cell_type": "code",
   "execution_count": null,
   "id": "13ec2b79",
   "metadata": {},
   "outputs": [],
   "source": []
  },
  {
   "cell_type": "markdown",
   "id": "76dacd8e",
   "metadata": {},
   "source": [
    "Write a Python program to find N largest elements from a list?"
   ]
  },
  {
   "cell_type": "code",
   "execution_count": 118,
   "id": "af2c4f3f",
   "metadata": {},
   "outputs": [],
   "source": [
    "def n_Largest(num,nth):\n",
    "    try:\n",
    "        temp=sorted(set(num))\n",
    "        return temp[-nth]\n",
    "    except Exception as e:\n",
    "        return e"
   ]
  },
  {
   "cell_type": "code",
   "execution_count": 120,
   "id": "db55f9b9",
   "metadata": {},
   "outputs": [
    {
     "data": {
      "text/plain": [
       "44"
      ]
     },
     "execution_count": 120,
     "metadata": {},
     "output_type": "execute_result"
    }
   ],
   "source": [
    "n_Largest([2,3,1,6,44,88,75],3)"
   ]
  },
  {
   "cell_type": "markdown",
   "id": "cfcdd415",
   "metadata": {},
   "source": [
    "Write a Python program to print even numbers in a list?"
   ]
  },
  {
   "cell_type": "code",
   "execution_count": 51,
   "id": "a63c05ac",
   "metadata": {},
   "outputs": [],
   "source": [
    "def print_Even(num):\n",
    "    try:\n",
    "        result=filter(lambda x : x%2==0,num)\n",
    "        return list(result)\n",
    "    except Exception as e:\n",
    "        return e"
   ]
  },
  {
   "cell_type": "code",
   "execution_count": 52,
   "id": "eeb5b622",
   "metadata": {},
   "outputs": [
    {
     "data": {
      "text/plain": [
       "[2, 4, 22, 12]"
      ]
     },
     "execution_count": 52,
     "metadata": {},
     "output_type": "execute_result"
    }
   ],
   "source": [
    "print_Even([1,2,3,4,22,12,23])"
   ]
  },
  {
   "cell_type": "markdown",
   "id": "49d8def6",
   "metadata": {},
   "source": [
    "Write a Python program to print odd numbers in a List?"
   ]
  },
  {
   "cell_type": "code",
   "execution_count": 48,
   "id": "cb5cfe44",
   "metadata": {},
   "outputs": [],
   "source": [
    "def print_Odd(num):\n",
    "    try:\n",
    "        result=filter(lambda x : x%2!=0,num)\n",
    "        return list(result)\n",
    "    except Exception as e:\n",
    "        return e"
   ]
  },
  {
   "cell_type": "code",
   "execution_count": 49,
   "id": "71f7226f",
   "metadata": {},
   "outputs": [
    {
     "data": {
      "text/plain": [
       "[1, 3, 23]"
      ]
     },
     "execution_count": 49,
     "metadata": {},
     "output_type": "execute_result"
    }
   ],
   "source": [
    "print_Odd([1,2,3,4,22,12,23])"
   ]
  },
  {
   "cell_type": "code",
   "execution_count": null,
   "id": "c5e4bce0",
   "metadata": {},
   "outputs": [],
   "source": []
  },
  {
   "cell_type": "markdown",
   "id": "e748cc04",
   "metadata": {},
   "source": [
    "Write a Python program to Remove empty List from List?"
   ]
  },
  {
   "cell_type": "code",
   "execution_count": 34,
   "id": "b731ec76",
   "metadata": {},
   "outputs": [],
   "source": [
    "def remove_emptylist(x):\n",
    "    try:\n",
    "        for i in x:\n",
    "            if type(i)==list and len(i)==0:\n",
    "                x.remove(i)\n",
    "        return x\n",
    "    except Exception as e:\n",
    "        return e"
   ]
  },
  {
   "cell_type": "code",
   "execution_count": 36,
   "id": "118a81d8",
   "metadata": {},
   "outputs": [
    {
     "data": {
      "text/plain": [
       "[1, 2, 3, [1, 2, 2]]"
      ]
     },
     "execution_count": 36,
     "metadata": {},
     "output_type": "execute_result"
    }
   ],
   "source": [
    "remove_emptylist([1,2,3,[],[1,2,2]])"
   ]
  },
  {
   "cell_type": "code",
   "execution_count": null,
   "id": "1177c37e",
   "metadata": {},
   "outputs": [],
   "source": []
  },
  {
   "cell_type": "markdown",
   "id": "8eb0a1fe",
   "metadata": {},
   "source": [
    "Write a Python program to Cloning or Copying a list?"
   ]
  },
  {
   "cell_type": "code",
   "execution_count": 83,
   "id": "bc336f55",
   "metadata": {},
   "outputs": [],
   "source": [
    "listA=[2,3,4,5,6]\n",
    "listB=listA.copy()"
   ]
  },
  {
   "cell_type": "code",
   "execution_count": 84,
   "id": "f56e53a4",
   "metadata": {},
   "outputs": [
    {
     "data": {
      "text/plain": [
       "[2, 3, 4, 5, 6]"
      ]
     },
     "execution_count": 84,
     "metadata": {},
     "output_type": "execute_result"
    }
   ],
   "source": [
    "listB"
   ]
  },
  {
   "cell_type": "code",
   "execution_count": 85,
   "id": "60a40326",
   "metadata": {},
   "outputs": [
    {
     "data": {
      "text/plain": [
       "[2, 3, 4, 5, 6]"
      ]
     },
     "execution_count": 85,
     "metadata": {},
     "output_type": "execute_result"
    }
   ],
   "source": [
    "listA"
   ]
  },
  {
   "cell_type": "code",
   "execution_count": 87,
   "id": "1e6320f4",
   "metadata": {},
   "outputs": [
    {
     "name": "stdout",
     "output_type": "stream",
     "text": [
      "[2, 78, 4, 5, 6]\n",
      "[2, 3, 4, 5, 6]\n"
     ]
    }
   ],
   "source": [
    "listB[1]=78\n",
    "print(listB)\n",
    "print(listA) #using copy function , if we change in new list , old list doesnt get modified"
   ]
  },
  {
   "cell_type": "code",
   "execution_count": null,
   "id": "f931ca71",
   "metadata": {},
   "outputs": [],
   "source": []
  },
  {
   "cell_type": "code",
   "execution_count": null,
   "id": "b76ed008",
   "metadata": {},
   "outputs": [],
   "source": []
  },
  {
   "cell_type": "markdown",
   "id": "103a4268",
   "metadata": {},
   "source": [
    "Write a Python program to Count occurrences of an element in a list?"
   ]
  },
  {
   "cell_type": "code",
   "execution_count": 93,
   "id": "3be5fdb3",
   "metadata": {},
   "outputs": [],
   "source": [
    "temp=[1,1,1,2,3,4,5,5,4,6,7,8]"
   ]
  },
  {
   "cell_type": "code",
   "execution_count": 94,
   "id": "6acb8019",
   "metadata": {},
   "outputs": [
    {
     "data": {
      "text/plain": [
       "3"
      ]
     },
     "execution_count": 94,
     "metadata": {},
     "output_type": "execute_result"
    }
   ],
   "source": [
    "temp.count(1)"
   ]
  },
  {
   "cell_type": "code",
   "execution_count": null,
   "id": "60865ff1",
   "metadata": {},
   "outputs": [],
   "source": []
  },
  {
   "cell_type": "code",
   "execution_count": null,
   "id": "09f63c32",
   "metadata": {},
   "outputs": [],
   "source": []
  },
  {
   "cell_type": "code",
   "execution_count": null,
   "id": "485729da",
   "metadata": {},
   "outputs": [],
   "source": []
  },
  {
   "cell_type": "code",
   "execution_count": null,
   "id": "31bd5d3d",
   "metadata": {},
   "outputs": [],
   "source": []
  },
  {
   "cell_type": "code",
   "execution_count": null,
   "id": "f31f7340",
   "metadata": {},
   "outputs": [],
   "source": []
  }
 ],
 "metadata": {
  "kernelspec": {
   "display_name": "Python 3 (ipykernel)",
   "language": "python",
   "name": "python3"
  },
  "language_info": {
   "codemirror_mode": {
    "name": "ipython",
    "version": 3
   },
   "file_extension": ".py",
   "mimetype": "text/x-python",
   "name": "python",
   "nbconvert_exporter": "python",
   "pygments_lexer": "ipython3",
   "version": "3.9.12"
  }
 },
 "nbformat": 4,
 "nbformat_minor": 5
}
